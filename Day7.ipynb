{
 "cells": [
  {
   "cell_type": "code",
   "execution_count": 1,
   "id": "aa256b04",
   "metadata": {},
   "outputs": [
    {
     "name": "stdout",
     "output_type": "stream",
     "text": [
      "Array: [2, 5, 8, 12, 16, 23, 38, 45, 56, 72, 91]\n",
      "Target: 23\n",
      "Result: Target found at index 5\n"
     ]
    }
   ],
   "source": [
    "def binary_search(arr, target):\n",
    "    left, right = 0, len(arr) - 1\n",
    "\n",
    "    while left <= right:\n",
    "        mid = (left + right) // 2\n",
    "\n",
    "        if arr[mid] == target:\n",
    "            return mid\n",
    "        elif arr[mid] < target:\n",
    "            left = mid + 1\n",
    "        else:\n",
    "            right = mid - 1\n",
    "\n",
    "    return -1\n",
    "\n",
    "\n",
    "arr = [2, 5, 8, 12, 16, 23, 38, 45, 56, 72, 91]\n",
    "target = 23\n",
    "\n",
    "\n",
    "index = binary_search(arr, target)\n",
    "\n",
    "print(f\"Array: {arr}\")\n",
    "print(f\"Target: {target}\")\n",
    "print(f\"Result: Target found at index {index}\" if index != -1 else \"Target not found\")\n"
   ]
  },
  {
   "cell_type": "code",
   "execution_count": 2,
   "id": "aa6b6352",
   "metadata": {},
   "outputs": [
    {
     "name": "stdout",
     "output_type": "stream",
     "text": [
      "39\n"
     ]
    }
   ],
   "source": [
    "nums = [1, 4, 2, 10, 23, 3, 1, 0, 20]\n",
    "k = 4\n",
    "\n",
    "Output=39  # (from subarray [4, 2, 10, 23])\n",
    "\n",
    "l = 0\n",
    "\n",
    "cur_sum = sum(nums[:k])\n",
    "max_sum = cur_sum\n",
    "\n",
    "for r in range(k,len(nums)):\n",
    "  cur_sum -= nums[l]\n",
    "  l+=1\n",
    "\n",
    "  cur_sum += nums[r]\n",
    "\n",
    "  max_sum = max(max_sum,cur_sum)\n",
    "\n",
    "print(max_sum)"
   ]
  }
 ],
 "metadata": {
  "kernelspec": {
   "display_name": "Python 3",
   "language": "python",
   "name": "python3"
  },
  "language_info": {
   "codemirror_mode": {
    "name": "ipython",
    "version": 3
   },
   "file_extension": ".py",
   "mimetype": "text/x-python",
   "name": "python",
   "nbconvert_exporter": "python",
   "pygments_lexer": "ipython3",
   "version": "3.11.0"
  }
 },
 "nbformat": 4,
 "nbformat_minor": 5
}
