{
 "cells": [
  {
   "cell_type": "markdown",
   "id": "be560c78",
   "metadata": {},
   "source": [
    "1. 2 parts of even values"
   ]
  },
  {
   "cell_type": "code",
   "execution_count": 3,
   "id": "d110606c",
   "metadata": {},
   "outputs": [
    {
     "name": "stdout",
     "output_type": "stream",
     "text": [
      "Yes\n"
     ]
    }
   ],
   "source": [
    "w = int(input(\"Enter the weight of the watermelon: \"))\n",
    "\n",
    "if w%2!=0:\n",
    "  print(\"No\")\n",
    "else:\n",
    "  n = w/2\n",
    "  if n%2==0:\n",
    "    print(\"Yes\")\n",
    "  else:\n",
    "    print(\"No\")"
   ]
  },
  {
   "cell_type": "markdown",
   "id": "08d88fd2",
   "metadata": {},
   "source": [
    "C Basic Questions\n",
    "\n",
    "1. Printf function returns number of characters printing as a result\n",
    "2. We can write a printf in another printf\n",
    "3. additional format specifiers return garbage value\n",
    "4. atleast we must give one value when we use format specifiers, otherwise it will be an error\n",
    "5. If multiple values are given and only one format specifiers, it takes the leftmost value and no error\n",
    "6. In C, the result value takes the sign of the numerator ex: 5%2=1, 5%-2=1\n",
    "7. In C, % is not allowed for float and decimal values. And it returns 6 zeroes by default\n",
    "8. If I use / then either numerator or denominator must be a float or it will be 0.\n",
    "9. scanf function returns the number of values it is reading\n",
    "10. C supports formatted input for scanf"
   ]
  },
  {
   "cell_type": "markdown",
   "id": "7832c13b",
   "metadata": {},
   "source": [
    "Time Complexities\n",
    "\n",
    "1.\n",
    "\n",
    "m = 1\n",
    "\n",
    "for i<=n {m=m*3\n",
    "  for j<m{\n",
    "    print\n",
    "  }\n",
    "}\n",
    "\n",
    "ans: pow(3,n)"
   ]
  },
  {
   "cell_type": "markdown",
   "id": "c1a2c3aa",
   "metadata": {},
   "source": [
    "2. 1 to 10 using recursion"
   ]
  },
  {
   "cell_type": "code",
   "execution_count": 2,
   "id": "60a5e093",
   "metadata": {},
   "outputs": [
    {
     "name": "stdout",
     "output_type": "stream",
     "text": [
      "1\n",
      "2\n",
      "3\n",
      "4\n",
      "5\n",
      "6\n",
      "7\n",
      "8\n",
      "9\n",
      "10\n"
     ]
    }
   ],
   "source": [
    "def num(n=1):\n",
    "  if n==10:\n",
    "    print(\"10\")\n",
    "    return\n",
    "  else:\n",
    "    print(n)\n",
    "    num(n+1)\n",
    "\n",
    "\n",
    "num()\n"
   ]
  },
  {
   "cell_type": "code",
   "execution_count": 4,
   "id": "8477c78a",
   "metadata": {},
   "outputs": [
    {
     "name": "stdout",
     "output_type": "stream",
     "text": [
      "10\n",
      "9\n",
      "8\n",
      "7\n",
      "6\n",
      "5\n",
      "4\n",
      "3\n",
      "2\n",
      "1\n"
     ]
    }
   ],
   "source": [
    "def num(n=10):\n",
    "  if n==1:\n",
    "    print(\"1\")\n",
    "    return\n",
    "  else:\n",
    "    print(n)\n",
    "    num(n-1)\n",
    "\n",
    "\n",
    "num()"
   ]
  },
  {
   "cell_type": "code",
   "execution_count": 5,
   "id": "40ed00bc",
   "metadata": {},
   "outputs": [
    {
     "name": "stdout",
     "output_type": "stream",
     "text": [
      "10\n",
      "9\n",
      "8\n",
      "7\n",
      "6\n",
      "5\n",
      "4\n",
      "3\n",
      "2\n",
      "1\n",
      "1\n"
     ]
    }
   ],
   "source": [
    "def num(n=1):\n",
    "  if n == 1:\n",
    "    print('10')\n",
    "  if n==10:\n",
    "    print(\"1\")\n",
    "    return\n",
    "  else:\n",
    "    print(10-n)\n",
    "    num(n+1)\n",
    "\n",
    "\n",
    "num()"
   ]
  },
  {
   "cell_type": "markdown",
   "id": "39e6a5fa",
   "metadata": {},
   "source": [
    "1. Find sum of natural numbers using recursion\n",
    "2. Print Fibonacci series using recursion\n",
    "3. Find factorial of a number using recursion\n",
    "4. Convert the decimal number to binary using recursion\n"
   ]
  },
  {
   "cell_type": "markdown",
   "id": "278ab8aa",
   "metadata": {},
   "source": [
    "1. Sum of Natural Numbers\n"
   ]
  },
  {
   "cell_type": "code",
   "execution_count": 7,
   "id": "5f6db7cf",
   "metadata": {},
   "outputs": [
    {
     "name": "stdout",
     "output_type": "stream",
     "text": [
      "15\n"
     ]
    }
   ],
   "source": [
    "n = int(input(\"Enter a number: \"))\n",
    "\n",
    "def sumN(n):\n",
    "  if n == 1:\n",
    "    return 1\n",
    "  else:\n",
    "    return n+sumN(n-1)\n",
    "  \n",
    "\n",
    "print(sumN(n))"
   ]
  },
  {
   "cell_type": "markdown",
   "id": "f87e5a14",
   "metadata": {},
   "source": [
    "2. Fibonacci"
   ]
  },
  {
   "cell_type": "code",
   "execution_count": 11,
   "id": "1b1fddb3",
   "metadata": {},
   "outputs": [
    {
     "name": "stdout",
     "output_type": "stream",
     "text": [
      "[0, 1, 1, 2, 3]\n"
     ]
    }
   ],
   "source": [
    "n = int(input(\"Enter a number: \"))\n",
    "fibo = [0,1]\n",
    "def Fib(n):\n",
    "  if n == 2:\n",
    "    print(fibo)\n",
    "    return\n",
    "  else:\n",
    "    fibo.append(fibo[-1]+fibo[-2])\n",
    "    Fib(n-1)\n",
    "\n",
    "Fib(n)\n"
   ]
  },
  {
   "cell_type": "markdown",
   "id": "6d8744c3",
   "metadata": {},
   "source": [
    "3. Factorial"
   ]
  },
  {
   "cell_type": "code",
   "execution_count": 13,
   "id": "0af078f9",
   "metadata": {},
   "outputs": [
    {
     "name": "stdout",
     "output_type": "stream",
     "text": [
      "120\n"
     ]
    }
   ],
   "source": [
    "n = int(input(\"Enter a number: \"))\n",
    "\n",
    "def Fact(n):\n",
    "  if n == 1:\n",
    "    return 1\n",
    "  else:\n",
    "    return n*Fact(n-1)\n",
    "  \n",
    "print(Fact(n))"
   ]
  }
 ],
 "metadata": {
  "kernelspec": {
   "display_name": "Python 3",
   "language": "python",
   "name": "python3"
  },
  "language_info": {
   "codemirror_mode": {
    "name": "ipython",
    "version": 3
   },
   "file_extension": ".py",
   "mimetype": "text/x-python",
   "name": "python",
   "nbconvert_exporter": "python",
   "pygments_lexer": "ipython3",
   "version": "3.11.0"
  }
 },
 "nbformat": 4,
 "nbformat_minor": 5
}
