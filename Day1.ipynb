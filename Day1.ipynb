{
 "cells": [
  {
   "cell_type": "markdown",
   "id": "be560c78",
   "metadata": {},
   "source": [
    "1. 2 parts of even values"
   ]
  },
  {
   "cell_type": "code",
   "execution_count": 3,
   "id": "d110606c",
   "metadata": {},
   "outputs": [
    {
     "name": "stdout",
     "output_type": "stream",
     "text": [
      "Yes\n"
     ]
    }
   ],
   "source": [
    "w = int(input(\"Enter the weight of the watermelon: \"))\n",
    "\n",
    "if w%2!=0:\n",
    "  print(\"No\")\n",
    "else:\n",
    "  n = w/2\n",
    "  if n%2==0:\n",
    "    print(\"Yes\")\n",
    "  else:\n",
    "    print(\"No\")"
   ]
  },
  {
   "cell_type": "markdown",
   "id": "08d88fd2",
   "metadata": {},
   "source": [
    "C Basic Questions\n",
    "\n",
    "1. Printf function returns number of characters printing as a result\n",
    "2. We can write a printf in another printf\n",
    "3. additional format specifiers return garbage value\n",
    "4. atleast we must give one value when we use format specifiers, otherwise it will be an error\n",
    "5. If multiple values are given and only one format specifiers, it takes the leftmost value and no error\n",
    "6. In C, the result value takes the sign of the numerator ex: 5%2=1, 5%-2=1\n",
    "7. In C, % is not allowed for float and decimal values. And it returns 6 zeroes by default\n",
    "8. If I use / then either numerator or denominator must be a float or it will be 0.\n",
    "9. scanf function returns the number of values it is reading\n",
    "10. C supports formatted input for scanf\n",
    "11. "
   ]
  },
  {
   "cell_type": "markdown",
   "id": "6bad5252",
   "metadata": {},
   "source": []
  }
 ],
 "metadata": {
  "kernelspec": {
   "display_name": "Python 3",
   "language": "python",
   "name": "python3"
  },
  "language_info": {
   "codemirror_mode": {
    "name": "ipython",
    "version": 3
   },
   "file_extension": ".py",
   "mimetype": "text/x-python",
   "name": "python",
   "nbconvert_exporter": "python",
   "pygments_lexer": "ipython3",
   "version": "3.11.0"
  }
 },
 "nbformat": 4,
 "nbformat_minor": 5
}
