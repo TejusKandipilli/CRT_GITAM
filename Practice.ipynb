{
 "cells": [
  {
   "cell_type": "code",
   "execution_count": 2,
   "id": "fff73c85",
   "metadata": {},
   "outputs": [],
   "source": [
    "class Node:\n",
    "  def __init__(self,val,left=None,right=None):\n",
    "    self.val = val\n",
    "    self.left = left\n",
    "    self.right = right\n",
    "  \n",
    "  def __str__(self):\n",
    "    return str(self.val)\n",
    "  \n",
    "  \n",
    "    "
   ]
  },
  {
   "cell_type": "code",
   "execution_count": 3,
   "id": "01c4a4a4",
   "metadata": {},
   "outputs": [
    {
     "name": "stdout",
     "output_type": "stream",
     "text": [
      "1\n"
     ]
    }
   ],
   "source": [
    "A = Node(1)\n",
    "B = Node(2)\n",
    "C = Node(3)\n",
    "D = Node(4)\n",
    "E = Node(5)\n",
    "F = Node(10)\n",
    "\n",
    "A.left = B\n",
    "A.right = C\n",
    "B.left = D\n",
    "B.right = E\n",
    "C.left = F\n",
    "\n",
    "print(A)"
   ]
  },
  {
   "cell_type": "code",
   "execution_count": 4,
   "id": "5df1cb49",
   "metadata": {},
   "outputs": [
    {
     "name": "stdout",
     "output_type": "stream",
     "text": [
      "1\n",
      "2\n",
      "4\n",
      "5\n",
      "3\n",
      "10\n"
     ]
    }
   ],
   "source": [
    "#recursive Pre Order Traversal (DFS) Time:O(n) Space:O(n)\n",
    "def pre_order(node):\n",
    "  if not node:\n",
    "    return\n",
    "  print(node)\n",
    "  pre_order(node.left)\n",
    "  pre_order(node.right)\n",
    "pre_order(A)"
   ]
  },
  {
   "cell_type": "code",
   "execution_count": 5,
   "id": "0e371352",
   "metadata": {},
   "outputs": [
    {
     "name": "stdout",
     "output_type": "stream",
     "text": [
      "4\n",
      "2\n",
      "5\n",
      "1\n",
      "10\n",
      "3\n"
     ]
    }
   ],
   "source": [
    "# Recursive In Order Traversal (DFS) Time:O(n) Space:O(n)\n",
    "def in_order(node):\n",
    "  if not node:\n",
    "    return\n",
    "\n",
    "  in_order(node.left)\n",
    "  print(node)\n",
    "  in_order(node.right)\n",
    "in_order(A)"
   ]
  },
  {
   "cell_type": "code",
   "execution_count": 6,
   "id": "b3379203",
   "metadata": {},
   "outputs": [
    {
     "name": "stdout",
     "output_type": "stream",
     "text": [
      "4\n",
      "5\n",
      "2\n",
      "10\n",
      "3\n",
      "1\n"
     ]
    }
   ],
   "source": [
    "# Recursive Post Order Traversal (DFS) Time:O(n) Space:O(n)\n",
    "def post_order(node):\n",
    "  if not node:\n",
    "    return\n",
    "\n",
    "  post_order(node.left)\n",
    "  post_order(node.right)\n",
    "  print(node)\n",
    "  \n",
    "post_order(A)"
   ]
  },
  {
   "cell_type": "code",
   "execution_count": 7,
   "id": "b8f05336",
   "metadata": {},
   "outputs": [
    {
     "name": "stdout",
     "output_type": "stream",
     "text": [
      "1\n",
      "2\n",
      "4\n",
      "5\n",
      "3\n",
      "10\n"
     ]
    }
   ],
   "source": [
    "# Iterative Pre Order Traversal (DFS) Time:O(n) Space:O(n)\n",
    "def pre_order_iterative(node):\n",
    "  stk = [node]\n",
    "\n",
    "  while stk:\n",
    "    n = stk.pop()\n",
    "    print(n)\n",
    "    if n.right:\n",
    "      stk.append(n.right)\n",
    "    if n.left:\n",
    "      stk.append(n.left)\n",
    "pre_order_iterative(A)"
   ]
  },
  {
   "cell_type": "code",
   "execution_count": 8,
   "id": "f69440d4",
   "metadata": {},
   "outputs": [
    {
     "name": "stdout",
     "output_type": "stream",
     "text": [
      "1\n",
      "2\n",
      "3\n",
      "4\n",
      "5\n",
      "10\n"
     ]
    }
   ],
   "source": [
    "# Level Order Traversal (BFS) Time:O(n), Space:O(n)\n",
    "\n",
    "from collections import deque\n",
    "\n",
    "def level_order_traversal(node):\n",
    "  q = deque([node])\n",
    "\n",
    "  while q:\n",
    "    n = q.popleft()\n",
    "    print(n)\n",
    "    if n.left: q.append(n.left)\n",
    "    if n.right: q.append(n.right)\n",
    "\n",
    "level_order_traversal(A)"
   ]
  },
  {
   "cell_type": "code",
   "execution_count": 11,
   "id": "fc9c2933",
   "metadata": {},
   "outputs": [
    {
     "name": "stdout",
     "output_type": "stream",
     "text": [
      "True\n"
     ]
    }
   ],
   "source": [
    "#Check if a value exists (DFS) Time:O(n), Space:O(n)\n",
    "\n",
    "def search(node,target):\n",
    "  if not node:\n",
    "    return False\n",
    "  \n",
    "  if node.val == target:\n",
    "    return True\n",
    "  \n",
    "  \n",
    "  return search(node.left,target) or search(node.right,target)\n",
    "  \n",
    "print(search(A,10))"
   ]
  },
  {
   "cell_type": "code",
   "execution_count": 12,
   "id": "0a858f01",
   "metadata": {},
   "outputs": [],
   "source": [
    "#BST\n",
    "\n",
    "root = Node(5)\n",
    "root.left = Node(3)\n",
    "root.right = Node(8)\n",
    "root.left.left = Node(2)\n",
    "root.left.right = Node(4)\n",
    "root.right.left = Node(6)\n",
    "root.right.right = Node(9)"
   ]
  },
  {
   "cell_type": "code",
   "execution_count": 13,
   "id": "493de7f4",
   "metadata": {},
   "outputs": [
    {
     "name": "stdout",
     "output_type": "stream",
     "text": [
      "2\n",
      "3\n",
      "4\n",
      "5\n",
      "6\n",
      "8\n",
      "9\n"
     ]
    }
   ],
   "source": [
    "in_order(root)"
   ]
  },
  {
   "cell_type": "code",
   "execution_count": 16,
   "id": "cae04f15",
   "metadata": {},
   "outputs": [
    {
     "data": {
      "text/plain": [
       "True"
      ]
     },
     "execution_count": 16,
     "metadata": {},
     "output_type": "execute_result"
    }
   ],
   "source": [
    "# Search (BST) Time:O(log n) Space:O(log n)\n",
    "def search_bst(node, target):\n",
    "  if not node:\n",
    "    return False\n",
    "  \n",
    "  if node.val == target:\n",
    "    return True\n",
    "  \n",
    "  if node.val < target:\n",
    "    return search_bst(node.right,target)\n",
    "  \n",
    "  if node.val > target:\n",
    "    return search_bst(node.left,target)\n",
    "  \n",
    "search_bst(root,2)"
   ]
  },
  {
   "cell_type": "code",
   "execution_count": null,
   "id": "b7b2f5b8",
   "metadata": {},
   "outputs": [],
   "source": []
  }
 ],
 "metadata": {
  "kernelspec": {
   "display_name": "Python 3",
   "language": "python",
   "name": "python3"
  },
  "language_info": {
   "codemirror_mode": {
    "name": "ipython",
    "version": 3
   },
   "file_extension": ".py",
   "mimetype": "text/x-python",
   "name": "python",
   "nbconvert_exporter": "python",
   "pygments_lexer": "ipython3",
   "version": "3.11.0"
  }
 },
 "nbformat": 4,
 "nbformat_minor": 5
}
