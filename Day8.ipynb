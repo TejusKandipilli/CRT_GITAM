{
 "cells": [
  {
   "cell_type": "code",
   "execution_count": 3,
   "id": "ce4facc8",
   "metadata": {},
   "outputs": [],
   "source": [
    "arr = [54,26,93,17,77,31,44,55,20]"
   ]
  },
  {
   "cell_type": "code",
   "execution_count": 1,
   "id": "55585e56",
   "metadata": {},
   "outputs": [],
   "source": [
    "def quicksort(arr):\n",
    "    if len(arr) <= 1:\n",
    "        return arr  # Base case: already sorted\n",
    "\n",
    "    pivot = arr[0]\n",
    "    left = [x for x in arr[1:] if x < pivot]   # elements < pivot\n",
    "    right = [x for x in arr[1:] if x >= pivot] # elements >= pivot\n",
    "\n",
    "    return quicksort(left) + [pivot] + quicksort(right)\n"
   ]
  },
  {
   "cell_type": "code",
   "execution_count": 4,
   "id": "47f6fbe7",
   "metadata": {},
   "outputs": [
    {
     "data": {
      "text/plain": [
       "[17, 20, 26, 31, 44, 54, 55, 77, 93]"
      ]
     },
     "execution_count": 4,
     "metadata": {},
     "output_type": "execute_result"
    }
   ],
   "source": [
    "quicksort(arr)"
   ]
  },
  {
   "cell_type": "code",
   "execution_count": 2,
   "id": "3278c9bd",
   "metadata": {},
   "outputs": [
    {
     "name": "stdout",
     "output_type": "stream",
     "text": [
      "1024\n"
     ]
    }
   ],
   "source": [
    "def pow(x,n):\n",
    "  if n==0:\n",
    "    return 1\n",
    "  \n",
    "  if n&1 == 0:\n",
    "    return pow(x,n//2)*pow(x,n//2)\n",
    "  \n",
    "  else:\n",
    "    return x * pow(x,n//2)*pow(x,n//2)\n",
    "  \n",
    "\n",
    "print(pow(2,10))"
   ]
  },
  {
   "cell_type": "code",
   "execution_count": 5,
   "id": "448ff635",
   "metadata": {},
   "outputs": [
    {
     "name": "stdout",
     "output_type": "stream",
     "text": [
      "207\n"
     ]
    }
   ],
   "source": [
    "arr = [52,66,64,36,45,24,32]\n",
    "\n",
    "\n",
    "r = 0\n",
    "\n",
    "lead = []\n",
    "\n",
    "for l in range(len(arr)):\n",
    "  r = l+1\n",
    "\n",
    "  while r < len(arr) and arr[r] < arr[l]:\n",
    "    r+=1\n",
    "  if r==len(arr):\n",
    "    lead.append(arr[l])\n",
    "  \n",
    "if not arr:\n",
    "  print(-1)\n",
    "else:\n",
    "  print(sum(lead))\n",
    "  \n",
    "\n"
   ]
  },
  {
   "cell_type": "code",
   "execution_count": 6,
   "id": "0a89a13a",
   "metadata": {},
   "outputs": [
    {
     "name": "stdout",
     "output_type": "stream",
     "text": [
      "207\n"
     ]
    }
   ],
   "source": [
    "arr = [52,66,64,36,45,24,32]\n",
    "\n",
    "\n",
    "\n",
    "lead = []\n",
    "\n",
    "lead.append(arr[-1])\n",
    "\n",
    "for l in range(len(arr)-1):\n",
    "  rmax = max(arr[l+1:])\n",
    "  \n",
    "  if arr[l] > rmax:\n",
    "    lead.append(arr[l])\n",
    "\n",
    "\n",
    "if not arr:\n",
    "  print(-1)\n",
    "else:\n",
    "  print(sum(lead))\n",
    "  "
   ]
  },
  {
   "cell_type": "code",
   "execution_count": 7,
   "id": "9f6b803b",
   "metadata": {},
   "outputs": [
    {
     "name": "stdout",
     "output_type": "stream",
     "text": [
      "207\n"
     ]
    }
   ],
   "source": [
    "arr = [52,66,64,36,45,24,32]\n",
    "\n",
    "\n",
    "\n",
    "lead = []\n",
    "cur_max = 0\n",
    "for val in arr[::-1]:\n",
    "  if val > cur_max:\n",
    "    lead.append(val)\n",
    "    cur_max = val\n",
    "\n",
    "print(sum(lead))"
   ]
  },
  {
   "cell_type": "code",
   "execution_count": null,
   "id": "28176b59",
   "metadata": {},
   "outputs": [
    {
     "name": "stdout",
     "output_type": "stream",
     "text": [
      "i\n"
     ]
    }
   ],
   "source": [
    "word = input(\"Enter a word: \")\n",
    "\n",
    "def MFV(word):\n",
    "  dict = {\n",
    "    'a':0,\n",
    "    'e':0,\n",
    "    'i':0,\n",
    "    'o':0,\n",
    "    'u':0\n",
    "  }\n",
    "\n",
    "  for letter in word:\n",
    "    if letter in dict:\n",
    "      dict[letter] +=1\n",
    "\n",
    "  res = ''\n",
    "  max_count = 0\n",
    "\n",
    "  for key in dict:\n",
    "    if dict[key] > max_count:\n",
    "      max_count = dict[key]\n",
    "      res = key\n",
    "  \n",
    "  return res\n",
    "\n",
    "print(MFV(word))\n",
    "\n"
   ]
  },
  {
   "cell_type": "code",
   "execution_count": 4,
   "id": "b38369ea",
   "metadata": {},
   "outputs": [
    {
     "name": "stdout",
     "output_type": "stream",
     "text": [
      "a\n"
     ]
    }
   ],
   "source": [
    "word = input(\"Enter a word: \")\n",
    "\n",
    "def MFV(word):\n",
    "  dict = {}\n",
    "  vowels = ['a','e','i','o','u']\n",
    "  for letter in word:\n",
    "    if letter.lower() in vowels and letter.lower() not in dict:\n",
    "      dict[letter.lower()] = 1\n",
    "    elif letter.lower() in vowels and letter.lower() in dict:\n",
    "      dict[letter.lower()] +=1\n",
    "\n",
    "\n",
    "  res = ''\n",
    "  max_count = 0\n",
    "\n",
    "  for key in dict:\n",
    "    if dict[key] > max_count:\n",
    "      max_count = dict[key]\n",
    "      res = key\n",
    "  \n",
    "  return res\n",
    "\n",
    "print(MFV(word))\n",
    "\n"
   ]
  },
  {
   "cell_type": "code",
   "execution_count": 3,
   "id": "967cecf8",
   "metadata": {},
   "outputs": [
    {
     "name": "stdout",
     "output_type": "stream",
     "text": [
      "4\n"
     ]
    }
   ],
   "source": [
    "s = input()\n",
    "l = [int(i) for i in s]\n",
    "\n",
    "f = True\n",
    "\n",
    "for p in range(len(l)):\n",
    "  if l[p] != l.count(p):\n",
    "    f = False\n",
    "    break\n",
    "\n",
    "if p:\n",
    "  print(len(set(l)))\n",
    "else:\n",
    "  print(-1)"
   ]
  },
  {
   "cell_type": "code",
   "execution_count": null,
   "id": "2634aae7",
   "metadata": {},
   "outputs": [],
   "source": [
    "s =input()\n",
    "\n",
    "sub = 2\n",
    "\n",
    "dict = {'0':0,'1':0}\n",
    "\n",
    "for val in s:\n",
    "  "
   ]
  }
 ],
 "metadata": {
  "kernelspec": {
   "display_name": "Python 3",
   "language": "python",
   "name": "python3"
  },
  "language_info": {
   "codemirror_mode": {
    "name": "ipython",
    "version": 3
   },
   "file_extension": ".py",
   "mimetype": "text/x-python",
   "name": "python",
   "nbconvert_exporter": "python",
   "pygments_lexer": "ipython3",
   "version": "3.11.0"
  }
 },
 "nbformat": 4,
 "nbformat_minor": 5
}
