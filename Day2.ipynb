{
 "cells": [
  {
   "cell_type": "markdown",
   "id": "4112c189",
   "metadata": {},
   "source": [
    "Arrays are used to avoid more number of variables in the program."
   ]
  },
  {
   "cell_type": "code",
   "execution_count": 4,
   "id": "797f0d49",
   "metadata": {},
   "outputs": [
    {
     "name": "stdout",
     "output_type": "stream",
     "text": [
      "no\n"
     ]
    }
   ],
   "source": [
    "n = int(input(\"Enter the number of values: \"))\n",
    "nums = []\n",
    "\n",
    "for _ in range(n):\n",
    "  nums.append(int(input(\"Enter number: \")))\n",
    "\n",
    "\n",
    "def check(nums):\n",
    "  if len(nums)==0:\n",
    "    print('no')\n",
    "    return\n",
    "  if len(nums)<=2:\n",
    "    print('yes')\n",
    "    return\n",
    "  \n",
    "  stage = ['inc','st','dec']\n",
    "  stage_val = stage[0]\n",
    "\n",
    "  for i in range(len(nums)):\n",
    "    if i == 0:\n",
    "      continue\n",
    "    if stage_val == 'inc':\n",
    "      if nums[i] <= nums[i-1]:\n",
    "        print('no')\n",
    "        return\n",
    "      if i+1 <n and i+2<n and nums[i+1] == nums[i+2]:\n",
    "        stage_val=stage[1]\n",
    "        continue\n",
    "    elif stage_val == 'st':\n",
    "      if nums[i+1] != nums[i]:\n",
    "        stage_val = stage[2]\n",
    "    elif stage_val == 'dec':\n",
    "      if nums[i]>nums[i-1]:\n",
    "        print('no')\n",
    "        return\n",
    "  \n",
    "  return 'yes'\n",
    "\n",
    "check(nums)\n",
    "\n",
    "\n",
    "\n"
   ]
  },
  {
   "cell_type": "code",
   "execution_count": 5,
   "id": "5f18ec8e",
   "metadata": {},
   "outputs": [
    {
     "name": "stdout",
     "output_type": "stream",
     "text": [
      "[0, 1, 1, 0, 1, 0]\n",
      "[0, 0, 0, 1, 1, 1]\n"
     ]
    }
   ],
   "source": [
    "n = int(input('Enter the number of values: '))\n",
    "nums = []\n",
    "\n",
    "for _ in range(n):\n",
    "  nums.append(int(input('Enter number: ')))\n",
    "\n",
    "res = [1]*n\n",
    "i = 0\n",
    "\n",
    "for val in nums:\n",
    "  if val == 0:\n",
    "    res[i]=0\n",
    "    i+=1\n",
    "\n",
    "print(nums)\n",
    "print(res)  "
   ]
  },
  {
   "cell_type": "code",
   "execution_count": null,
   "id": "4fb75143",
   "metadata": {},
   "outputs": [],
   "source": [
    "n = int(input('Enter the number of values: '))\n",
    "nums = []\n",
    "\n",
    "for _ in range(n):\n",
    "  nums.append(int(input('Enter number: ')))\n",
    "\n",
    "l = 0\n",
    "r = n-1\n",
    "\n",
    "while l < r:\n",
    "  while nums[l] == 0 and l < r:\n",
    "    l+=1\n",
    "  while nums[r] == 1 and l < r:\n",
    "    r-=1\n",
    "  if l<r:\n",
    "    nums[l]=0\n",
    "    nums[r]=1\n",
    "\n",
    "print(nums)\n",
    "    \n"
   ]
  },
  {
   "cell_type": "code",
   "execution_count": 5,
   "id": "3fe48c5d",
   "metadata": {},
   "outputs": [
    {
     "name": "stdout",
     "output_type": "stream",
     "text": [
      "[3, 5]\n",
      "0\n"
     ]
    }
   ],
   "source": [
    "n = int(input('Enter the number of hourses: '))\n",
    "w = int(input('Enter the power of weapon: '))\n",
    "\n",
    "defence = []\n",
    "\n",
    "for _ in range(n):\n",
    "  defence.append(int(input('Enter the defence: ')))\n",
    "\n",
    "\n",
    "res = 0\n",
    "\n",
    "i = n - 1\n",
    "\n",
    "while True:\n",
    "  if i < 0:\n",
    "    break\n",
    "  if defence[i] <= w:\n",
    "    break\n",
    "  else:\n",
    "    i-=1\n",
    "\n",
    "print(defence)  \n",
    "if i < 0:\n",
    "  print('0')\n",
    "else:\n",
    "  print(i)\n"
   ]
  },
  {
   "cell_type": "code",
   "execution_count": 6,
   "id": "882555bd",
   "metadata": {},
   "outputs": [
    {
     "name": "stdout",
     "output_type": "stream",
     "text": [
      "47\n"
     ]
    }
   ],
   "source": [
    "mat = [ [ 2, 10,  6,  7,  1,  4 ],\n",
    "  [ 5,  3,  9,  2, 10,  6 ],\n",
    "  [ 7,  8,  1,  5,  9,  3 ],\n",
    "  [ 6,  4,  8,  2,  7, 10 ],\n",
    "  [ 3,  1,  5,  9,  6,  8 ],\n",
    "  [10,  7,  2,  4,  3,  1 ] ]\n",
    "\n",
    "max_sum = 0\n",
    "\n",
    "for i in range(4):\n",
    "  for j in range(4):\n",
    "    cur_sum = mat[i][j]+mat[i][j+1]+mat[i][j+2]+mat[i+1][j+1]+mat[i+2][j]+mat[i+2][j+1]+mat[i+2][j+2]\n",
    "    max_sum = max(max_sum,cur_sum)\n",
    "\n",
    "print(max_sum)"
   ]
  },
  {
   "cell_type": "code",
   "execution_count": 1,
   "id": "ef4081b3",
   "metadata": {},
   "outputs": [
    {
     "name": "stdout",
     "output_type": "stream",
     "text": [
      "1\n",
      "2\n"
     ]
    }
   ],
   "source": [
    "n = int(input('Enter the number of hourses: '))\n",
    "\n",
    "nums = []\n",
    "\n",
    "for _ in range(n):\n",
    "  nums.append(int(input('Enter the number: ')))\n",
    "\n",
    "nums = sorted(nums)\n",
    "\n",
    "i = 0\n",
    "\n",
    "while i < n:\n",
    "  print(nums[i])\n",
    "  while i + 1 < n and  nums[i] == nums[i+1] :\n",
    "    i+=1\n",
    "  i+=1\n",
    "\n",
    "\n"
   ]
  },
  {
   "cell_type": "code",
   "execution_count": 1,
   "id": "67c5314c",
   "metadata": {},
   "outputs": [
    {
     "name": "stdout",
     "output_type": "stream",
     "text": [
      "1\n",
      "2\n"
     ]
    }
   ],
   "source": [
    "n = int(input('Enter the number of hourses: '))\n",
    "\n",
    "nums = []\n",
    "\n",
    "for _ in range(n):\n",
    "  nums.append(int(input('Enter the number: ')))\n",
    "\n",
    "\n",
    "num_dict = {}\n",
    "\n",
    "for val in nums:\n",
    "  if val not in num_dict:\n",
    "    print(val)\n",
    "    num_dict[val] = 1\n",
    "  \n",
    "\n"
   ]
  }
 ],
 "metadata": {
  "kernelspec": {
   "display_name": "Python 3",
   "language": "python",
   "name": "python3"
  },
  "language_info": {
   "codemirror_mode": {
    "name": "ipython",
    "version": 3
   },
   "file_extension": ".py",
   "mimetype": "text/x-python",
   "name": "python",
   "nbconvert_exporter": "python",
   "pygments_lexer": "ipython3",
   "version": "3.11.0"
  }
 },
 "nbformat": 4,
 "nbformat_minor": 5
}
