{
 "cells": [
  {
   "cell_type": "code",
   "execution_count": null,
   "id": "a8b0d5e7",
   "metadata": {},
   "outputs": [],
   "source": [
    "class Node:\n",
    "  def __init__(self,val,next=None):\n",
    "    self.val = val\n",
    "    self.next = next\n",
    "  \n",
    "  def addEnd(self,val):\n",
    "    new = Node(val)\n",
    "    curr = self\n",
    "    while curr.next:\n",
    "      curr = curr.next\n",
    "    curr.next = new\n",
    "\n",
    "  def addBegin(self,val):\n",
    "    new = Node(val)\n",
    "    curr = self\n",
    "    new.next = curr\n",
    "    return new\n",
    "  \n",
    "  def print(self):\n",
    "    curr = self\n",
    "    while curr:\n",
    "      print(curr.val)\n",
    "      curr = curr.next\n",
    "    "
   ]
  }
 ],
 "metadata": {
  "language_info": {
   "name": "python"
  }
 },
 "nbformat": 4,
 "nbformat_minor": 5
}
