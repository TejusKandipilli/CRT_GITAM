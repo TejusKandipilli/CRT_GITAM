{
 "cells": [
  {
   "cell_type": "code",
   "execution_count": 1,
   "id": "6b4efafa",
   "metadata": {},
   "outputs": [
    {
     "name": "stdout",
     "output_type": "stream",
     "text": [
      "4\n"
     ]
    }
   ],
   "source": [
    "arr = [2,8,3,5,7,4,1,2]\n",
    "\n",
    "def calculate(arr,r,unit):\n",
    "  if not arr:\n",
    "    return -1\n",
    "  \n",
    "  cur_sum = 0\n",
    "  needed = r*unit\n",
    "\n",
    "  for i in range(len(arr)):\n",
    "    cur_sum += arr[i]\n",
    "    if cur_sum >= needed:\n",
    "      return i+1\n",
    "  \n",
    "  return 0\n",
    "\n",
    "print(calculate(arr,7,2))"
   ]
  }
 ],
 "metadata": {
  "kernelspec": {
   "display_name": "Python 3",
   "language": "python",
   "name": "python3"
  },
  "language_info": {
   "codemirror_mode": {
    "name": "ipython",
    "version": 3
   },
   "file_extension": ".py",
   "mimetype": "text/x-python",
   "name": "python",
   "nbconvert_exporter": "python",
   "pygments_lexer": "ipython3",
   "version": "3.11.0"
  }
 },
 "nbformat": 4,
 "nbformat_minor": 5
}
