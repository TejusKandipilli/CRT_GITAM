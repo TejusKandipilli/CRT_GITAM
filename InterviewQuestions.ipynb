{
 "cells": [
  {
   "cell_type": "code",
   "execution_count": 1,
   "id": "6b4efafa",
   "metadata": {},
   "outputs": [
    {
     "name": "stdout",
     "output_type": "stream",
     "text": [
      "4\n"
     ]
    }
   ],
   "source": [
    "arr = [2,8,3,5,7,4,1,2]\n",
    "\n",
    "def calculate(arr,r,unit):\n",
    "  if not arr:\n",
    "    return -1\n",
    "  \n",
    "  cur_sum = 0\n",
    "  needed = r*unit\n",
    "\n",
    "  for i in range(len(arr)):\n",
    "    cur_sum += arr[i]\n",
    "    if cur_sum >= needed:\n",
    "      return i+1\n",
    "  \n",
    "  return 0\n",
    "\n",
    "print(calculate(arr,7,2))"
   ]
  },
  {
   "cell_type": "code",
   "execution_count": 3,
   "id": "7eeb4f45",
   "metadata": {},
   "outputs": [
    {
     "name": "stdout",
     "output_type": "stream",
     "text": [
      "1\n"
     ]
    }
   ],
   "source": [
    "s = input()\n",
    "\n",
    "num = []\n",
    "op = []\n",
    "\n",
    "for i in range(len(s)):\n",
    "    if s[i].isnumeric():\n",
    "        num.append(int(s[i]))\n",
    "    elif s[i].isalpha():\n",
    "        op.append(s[i])\n",
    "\n",
    "    if len(num) >= 2 and len(op) >= 1:\n",
    "        b = num.pop()\n",
    "        a = num.pop()\n",
    "        c_op = op.pop()\n",
    "        \n",
    "        if c_op == 'A':\n",
    "            num.append(a & b)\n",
    "        elif c_op == 'B':\n",
    "            num.append(a | b)\n",
    "        elif c_op == 'C':\n",
    "            num.append(a ^ b)\n",
    "\n",
    "print(num[-1])\n"
   ]
  },
  {
   "cell_type": "code",
   "execution_count": null,
   "id": "ef453f3e",
   "metadata": {},
   "outputs": [],
   "source": [
    "S = [1,2,3,4,5,6,7,8,9,10]\n",
    "st = [1,2,3,4,7,8,9,9,11,12]\n",
    "ft = [3,5,4,7,10,9,11,13,12,14]\n",
    "\n",
    "\n",
    "data = [7,3]\n",
    "demon = [500,100,50,20,10,5,1]\n",
    "\n",
    "\n"
   ]
  }
 ],
 "metadata": {
  "kernelspec": {
   "display_name": "Python 3",
   "language": "python",
   "name": "python3"
  },
  "language_info": {
   "codemirror_mode": {
    "name": "ipython",
    "version": 3
   },
   "file_extension": ".py",
   "mimetype": "text/x-python",
   "name": "python",
   "nbconvert_exporter": "python",
   "pygments_lexer": "ipython3",
   "version": "3.11.0"
  }
 },
 "nbformat": 4,
 "nbformat_minor": 5
}
