{
 "cells": [
  {
   "cell_type": "code",
   "execution_count": 22,
   "id": "13840f6d",
   "metadata": {},
   "outputs": [],
   "source": [
    "class Node:\n",
    "  def __init__(self,val,next=None):\n",
    "    self.val = val\n",
    "    self.next = next\n",
    "  \n",
    "  def addEnd(self,val):\n",
    "    new = Node(val)\n",
    "    curr = self\n",
    "    while curr.next:\n",
    "      curr = curr.next\n",
    "    curr.next = new\n",
    "\n",
    "  def addBegin(self,val):\n",
    "    new = Node(val)\n",
    "    curr = self\n",
    "    new.next = curr\n",
    "    return new\n",
    "  \n",
    "  def print(self):\n",
    "    curr = self\n",
    "    while curr:\n",
    "      print(curr.val)\n",
    "      curr = curr.next\n"
   ]
  },
  {
   "cell_type": "code",
   "execution_count": 23,
   "id": "d86dd9ff",
   "metadata": {},
   "outputs": [
    {
     "name": "stdout",
     "output_type": "stream",
     "text": [
      "1000\n",
      "1\n",
      "2\n",
      "3\n"
     ]
    }
   ],
   "source": [
    "head = Node(1)\n",
    "head.addEnd(2)\n",
    "head.addEnd(3)\n",
    "head = head.addBegin(1000)\n",
    "head.print()"
   ]
  },
  {
   "cell_type": "code",
   "execution_count": 31,
   "id": "3ebbafad",
   "metadata": {},
   "outputs": [
    {
     "name": "stdout",
     "output_type": "stream",
     "text": [
      "122\n"
     ]
    }
   ],
   "source": [
    "print(ord('z'))"
   ]
  },
  {
   "cell_type": "code",
   "execution_count": null,
   "id": "a8309748",
   "metadata": {},
   "outputs": [],
   "source": []
  }
 ],
 "metadata": {
  "kernelspec": {
   "display_name": "Python 3",
   "language": "python",
   "name": "python3"
  },
  "language_info": {
   "codemirror_mode": {
    "name": "ipython",
    "version": 3
   },
   "file_extension": ".py",
   "mimetype": "text/x-python",
   "name": "python",
   "nbconvert_exporter": "python",
   "pygments_lexer": "ipython3",
   "version": "3.11.0"
  }
 },
 "nbformat": 4,
 "nbformat_minor": 5
}
